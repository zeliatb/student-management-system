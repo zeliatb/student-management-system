{
 "cells": [
  {
   "cell_type": "markdown",
   "id": "b8d732cb-f130-482e-be75-235b4b9ce55e",
   "metadata": {},
   "source": [
    "# STUDENT MANAGEMENT SYSTEM\n",
    "This system allows users manage student records with secure login, easy-to-use CRUD features, and reliable file storage to keep data safe and accessible."
   ]
  },
  {
   "cell_type": "markdown",
   "id": "0e51613d-7196-41ed-a58f-86344f79a517",
   "metadata": {},
   "source": [
    "## Import the required modules\n",
    "This imports the necessary modules used in the Student Management System for file handling, password security, and timestamping user activities."
   ]
  },
  {
   "cell_type": "code",
   "execution_count": 1,
   "id": "dea28ad3-2bed-405f-bec1-0349aeb4b879",
   "metadata": {},
   "outputs": [],
   "source": [
    "import os  # For file management and path handling\n",
    "import getpass  # For password security\n",
    "import datetime  # For timestamping"
   ]
  },
  {
   "cell_type": "markdown",
   "id": "24f720dd-c463-48b2-bd83-6b20d0c590bc",
   "metadata": {},
   "source": [
    "## File Paths\n",
    "This creates files to store user credentials, student records, and logs of all user activities."
   ]
  },
  {
   "cell_type": "code",
   "execution_count": 2,
   "id": "1cb05126-ea24-427f-bfdd-ab5bd4c49d09",
   "metadata": {},
   "outputs": [],
   "source": [
    "# Create and store file paths\n",
    "USER_FILE = \"users.txt\"\n",
    "STUDENT_FILE = \"students.txt\"\n",
    "LOG_FILE = \"activity_log.txt\""
   ]
  },
  {
   "cell_type": "markdown",
   "id": "2be77ed6-9158-4445-88ca-857ffa55e553",
   "metadata": {},
   "source": [
    "## Authentication System\n",
    "The authentication system functions secure access to the Student Management System. It loads user credentials from a file, allows new users to be saved, and checks login details against stored records. Successful logins are recorded in an activity log, while invalid attempts are denied. This ensures only authorized users can manage student data."
   ]
  },
  {
   "cell_type": "markdown",
   "id": "e8c4c1d9-74ff-4ddb-8760-fad0b2135629",
   "metadata": {},
   "source": [
    "##### Log each user action to a file, appending a timestamp for tracking purposes"
   ]
  },
  {
   "cell_type": "code",
   "execution_count": 3,
   "id": "22f907ae-11af-42e5-a459-405bc3c4a5ee",
   "metadata": {},
   "outputs": [],
   "source": [
    "# Create log activity function\n",
    "def log_activity(username, action):\n",
    "    \"\"\"Log user actions with timestamp\"\"\"\n",
    "\n",
    "    # Open the log file in append mode so new entries are added at the end with timestamp\n",
    "    with open(LOG_FILE, \"a\") as log:\n",
    "        log.write(f\"{datetime.datetime.now().strftime(\"%Y-%m-%d %H:%M:%S\")} - {username} - {action}\\n\")"
   ]
  },
  {
   "cell_type": "markdown",
   "id": "834e8930-0a2f-463c-ae3d-5ed1a2919b0a",
   "metadata": {},
   "source": [
    "##### Load user data from the User File and store it in a dictionary"
   ]
  },
  {
   "cell_type": "code",
   "execution_count": 4,
   "id": "54c11d4a-a941-46c4-b34e-2f61c93e9419",
   "metadata": {},
   "outputs": [],
   "source": [
    "# Create load users function\n",
    "def load_users():\n",
    "    \"\"\"Load users from file into a dictionary\"\"\"\n",
    "    \n",
    "    users = {}  # Empty dictionary to store user data\n",
    "\n",
    "    # Check if user file exists\n",
    "    if os.path.exists(USER_FILE):\n",
    "        with open(USER_FILE, \"r\") as f:  # Open file in read mode\n",
    "            \n",
    "            for line in f:\n",
    "                if \",\" in line:  # Ensure the line contains a comma\n",
    "                    uname, pwd = line.strip().split(\",\", 1)  # Split into username and password\n",
    "                    users[uname] = pwd  # Add to dictionary\n",
    "    return users"
   ]
  },
  {
   "cell_type": "markdown",
   "id": "e3d9aee4-a73d-4932-9e8f-f8e69b02d16c",
   "metadata": {},
   "source": [
    "##### Save new users by appending the User File to include the new username and password"
   ]
  },
  {
   "cell_type": "code",
   "execution_count": 5,
   "id": "367a314c-d0f3-4801-955a-8123e8a17470",
   "metadata": {},
   "outputs": [],
   "source": [
    "# Create save user function\n",
    "def save_user(username, password):\n",
    "    \"\"\"Save new user to the file\"\"\"\n",
    "\n",
    "    # Open the file in append mode to write username and password\n",
    "    with open(USER_FILE, \"a\") as f:\n",
    "        f.write(f\"{username},{password}\\n\")"
   ]
  },
  {
   "cell_type": "markdown",
   "id": "7e6985a6-f19f-4eac-8101-69e5ffa21dd5",
   "metadata": {},
   "source": [
    "##### Verify login details against stored records for authentication"
   ]
  },
  {
   "cell_type": "code",
   "execution_count": 6,
   "id": "5e276a77-3d22-400e-bb53-4d653ecbd2bf",
   "metadata": {},
   "outputs": [],
   "source": [
    "# Create authenticate user function\n",
    "def authenticate():\n",
    "    \"\"\"Authenticate user login\"\"\"\n",
    "\n",
    "    users = load_users()  # Load existing users\n",
    "    username = input(\"Enter Username: \")\n",
    "    password = getpass.getpass(\"Enter Password: \")\n",
    "\n",
    "    # Check if the username exists and the password matches\n",
    "    if username in users and users[username] == password:\n",
    "        log_activity(username, \"Logged in\")  # Log the login action\n",
    "        print(\"\\nLogin Successful!\\n\")\n",
    "        return username\n",
    "    else:\n",
    "        print(\"\\nInvalid credentials!\\n\")\n",
    "        return None"
   ]
  },
  {
   "cell_type": "markdown",
   "id": "7cc6e047-a828-4371-9fb2-13e6cb00a6db",
   "metadata": {},
   "source": [
    "## Student Data Management\n",
    "The student data management functions handle records stored in a file. They allow users to perform basic CRUD (Create, Read, Update, Delete) operations. With this, users can add new students, view all records, search for specific students, update details, and delete entries. This ensures accurate and organized management of student information."
   ]
  },
  {
   "cell_type": "markdown",
   "id": "b4642da8-507e-4b48-9b2e-504d554d88f3",
   "metadata": {},
   "source": [
    "##### Add a new student to the system and save in the Student File"
   ]
  },
  {
   "cell_type": "code",
   "execution_count": 7,
   "id": "551472ce-b4b8-46ff-ae22-6e228e554e42",
   "metadata": {},
   "outputs": [],
   "source": [
    "# Create add student function\n",
    "def add_student(username):\n",
    "    \"\"\"Prompt user to enter student details\"\"\"\n",
    "    \n",
    "    roll = input(\"Enter Roll Number: \")\n",
    "    name = input(\"Enter Name: \")\n",
    "    grade = input(\"Enter Grade: \")\n",
    "\n",
    "    # Open the file in append mode to add the new student\n",
    "    with open (STUDENT_FILE, \"a\") as f:\n",
    "        f.write(f\"{roll},{name},{grade}\\n\")\n",
    "\n",
    "    log_activity(username, f\"Added student {roll}\")  # Log the activity\n",
    "    print(\"Student added successfully!\")"
   ]
  },
  {
   "cell_type": "markdown",
   "id": "95cde96a-2199-4771-ab3b-12e94c3742df",
   "metadata": {},
   "source": [
    "##### View students' details"
   ]
  },
  {
   "cell_type": "code",
   "execution_count": 8,
   "id": "66b753d2-81c9-4915-93f5-a0c8e2600a1d",
   "metadata": {},
   "outputs": [],
   "source": [
    "# Create view student function\n",
    "def view_students():\n",
    "\n",
    "    # Check if the file exists before trying to read it\n",
    "    if not os.path.exists(STUDENT_FILE):\n",
    "        print(\"No records found.\")\n",
    "        return\n",
    "\n",
    "    with open(STUDENT_FILE, \"r\") as f:  # Open the file in read mode\n",
    "        print(\"\\n--- Student Records ---\")\n",
    "\n",
    "        # Loop through each line in the file\n",
    "        for line in f:\n",
    "            # Skip invalid lines\n",
    "            roll, name, grade = line.strip().split(\",\")\n",
    "            print(f\"Roll: {roll} | Name: {name} | Grade: {grade}\")"
   ]
  },
  {
   "cell_type": "markdown",
   "id": "083c7735-723d-4ff1-9c55-ff2f532c3508",
   "metadata": {},
   "source": [
    "##### Search for a student in the Student File by roll number"
   ]
  },
  {
   "cell_type": "code",
   "execution_count": 9,
   "id": "b0d46cb0-e416-4c68-ad83-1ad66c754229",
   "metadata": {},
   "outputs": [],
   "source": [
    "# Create search student function\n",
    "def search_student():\n",
    "    roll_no = input(\"Enter Roll Number to search: \")\n",
    "    \n",
    "    found = False  # Flag to track if the student is found\n",
    "\n",
    "    # Check if the file exists, then open in read mode if it exists\n",
    "    if os.path.exists(STUDENT_FILE):\n",
    "        with open(STUDENT_FILE, \"r\") as f:\n",
    "\n",
    "            # Loop through each line in the file\n",
    "            for line in f:\n",
    "                # Skip empty or invalid lines\n",
    "                parts = line.strip().split(\",\")\n",
    "\n",
    "                # Skip lines that don't have 3 parts (roll, name, grade)\n",
    "                if len(parts) != 3:\n",
    "                    continue\n",
    "                roll, name, grade = parts\n",
    "                if roll == roll_no:\n",
    "                    print(f\"Found! Roll: {roll} | Name: {name} | Grade: {grade}\")\n",
    "                    found = True  # Update the flag\n",
    "                    \n",
    "                    break  # Exit the loop once found\n",
    "    if not found:\n",
    "        print(\"Student not found.\")"
   ]
  },
  {
   "cell_type": "markdown",
   "id": "9a5b23a2-6c70-446a-b092-42279e4c3ff0",
   "metadata": {},
   "source": [
    "##### Update students' record"
   ]
  },
  {
   "cell_type": "code",
   "execution_count": 10,
   "id": "c99af0fe-b621-47a1-b38c-373e00851fd2",
   "metadata": {},
   "outputs": [],
   "source": [
    "# Create update student function\n",
    "def update_student(username):\n",
    "    \"\"\"Update student name and grade based on their roll number.\"\"\"\n",
    "    \n",
    "    roll_no = input(\"Enter Roll Number to update: \")\n",
    "    students = []  # List to hold all student records\n",
    "    updated = False\n",
    "\n",
    "    # Check if the file exists\n",
    "    if os.path.exists(STUDENT_FILE):\n",
    "\n",
    "        # Read all student records into a list\n",
    "        with open(STUDENT_FILE, \"r\") as f:\n",
    "            students = f.readlines()\n",
    "\n",
    "        # Open the file in write mode to overwrite with updated data\n",
    "        with open(STUDENT_FILE, \"w\") as f:\n",
    "            for line in students:\n",
    "                roll, name, grade = line.strip().split(\",\")\n",
    "\n",
    "                # If the roll number matches, update the record\n",
    "                if roll == roll_no:\n",
    "                    print(f\"Current Data - Name: {name}, Grade: {grade}\")\n",
    "                    new_name = input(\"Enter new name: \")\n",
    "                    new_grade = input(\"Enter new grade: \")\n",
    "\n",
    "                    # Write the updated student info in the file\n",
    "                    f.write(f\"{roll},{new_name},{new_grade}\\n\")\n",
    "                    updated = True\n",
    "                    log_activity(username, f\"Updated student {roll}\")  # Log the update activity\n",
    "                else:\n",
    "                    f.write(line)  # Write the original record back if not updating\n",
    "    if updated:\n",
    "        print(\"Student record updated.\")\n",
    "    else:\n",
    "        print(\"Student not found.\")"
   ]
  },
  {
   "cell_type": "markdown",
   "id": "76627221-783a-4c81-9033-e210e2d84b11",
   "metadata": {},
   "source": [
    "##### Delete students' record from Student File"
   ]
  },
  {
   "cell_type": "code",
   "execution_count": 11,
   "id": "fb070c12-3a97-490e-8a3d-25e4f450532c",
   "metadata": {},
   "outputs": [],
   "source": [
    "# Create delete student function\n",
    "def delete_student(username):\n",
    "    \"\"\"Delete student record from the student file based on roll number\"\"\"\n",
    "    \n",
    "    roll_no = input(\"Enter Roll Number to delete: \")\n",
    "    students = []\n",
    "    deleted = False\n",
    "\n",
    "    # Check if the file exists\n",
    "    if os.path.exists(STUDENT_FILE):\n",
    "\n",
    "         # Read all student records into a list\n",
    "        with open(STUDENT_FILE, \"r\") as f:\n",
    "            students = f.readlines()\n",
    "\n",
    "        # Open the file in write mode to overwrite it with updated data\n",
    "        with open(STUDENT_FILE, \"w\") as f:\n",
    "            for line in students:\n",
    "                parts = line.strip().split(\",\")  # Skip empty or invalid lines\n",
    "                \n",
    "                # Skip lines that don't have 3 parts (roll, name, grade)\n",
    "                if len(parts) != 3:\n",
    "                    f.write(line)  # Keep invalid lines unchanged\n",
    "                    continue\n",
    "                roll, name, grade = parts\n",
    "                \n",
    "                # If the roll number matches, delete it\n",
    "                if roll == roll_no:\n",
    "                    deleted = True\n",
    "                    log_activity(username, f\"Deleted student {roll}\")  # Log deletion activity\n",
    "                else:\n",
    "                    f.write(line)  # Write the original record back if not deleting\n",
    "\n",
    "    if deleted:\n",
    "        print(\"Student record deleted.\")\n",
    "    else:\n",
    "        print(\"Student not found.\")"
   ]
  },
  {
   "cell_type": "markdown",
   "id": "e775d268-d23d-4d8c-86e8-0151ee85c1c1",
   "metadata": {},
   "source": [
    "## Report Generation\n",
    "The report generation function summarises and analyses student data. It provides an overview of how many students are registered, and breaks down student distribution by grade."
   ]
  },
  {
   "cell_type": "code",
   "execution_count": 12,
   "id": "ddc92c33-3ae6-42cb-b3c4-1638cfe3750d",
   "metadata": {},
   "outputs": [],
   "source": [
    "# Create generate report function\n",
    "def generate_report():\n",
    "    \"\"\"Generate summary report of student records\"\"\"\n",
    "\n",
    "    # Check if the file exists\n",
    "    if not os.path.exists(STUDENT_FILE):\n",
    "        print(\"No records available.\")   # If no data is found\n",
    "        return\n",
    "\n",
    "    total = 0     # Counter for total number of students\n",
    "    grades = {}   # Dictionary to count students per grade\n",
    "\n",
    "    # Open the file in read mode\n",
    "    with open(STUDENT_FILE, \"r\") as f:\n",
    "        for line in f:\n",
    "            # Split each line into roll, name, and grade\n",
    "            roll, name, grade = line.strip().split(\",\")\n",
    "            \n",
    "            # Add one to increase the student count\n",
    "            total += 1\n",
    "\n",
    "            # Update the count for the student's grade\n",
    "            grades[grade] = grades.get(grade, 0) + 1\n",
    "\n",
    "    print(\"\\nStudent Report\")\n",
    "    print(f\"Total Students: {total}\")\n",
    "    for g, count in grades.items():\n",
    "        print(f\"Grade {g}: {count} student(s)\")"
   ]
  },
  {
   "cell_type": "markdown",
   "id": "e1daa01f-c35e-4130-bea7-822a6c29d445",
   "metadata": {},
   "source": [
    "## Main Program\n",
    "The main function coordinates all the features built for the Student Management System. It controls the flow of the entire program, and allows users to interact with the system and access different features like adding, viewing, updating, or deleting student records."
   ]
  },
  {
   "cell_type": "code",
   "execution_count": 14,
   "id": "5a28cb54-3524-4cae-955f-787f57c55923",
   "metadata": {},
   "outputs": [
    {
     "name": "stdout",
     "output_type": "stream",
     "text": [
      "===== Student Management System =====\n"
     ]
    },
    {
     "name": "stdin",
     "output_type": "stream",
     "text": [
      "Enter Username:  Zeliat\n",
      "Enter Password:  ········\n"
     ]
    },
    {
     "name": "stdout",
     "output_type": "stream",
     "text": [
      "\n",
      "Login Successful!\n",
      "\n",
      "\n",
      "--- Main Menu ---\n",
      "1. Add Student\n",
      "2. View All Students\n",
      "3. Search Student\n",
      "4. Update Student\n",
      "5. Delete Student\n",
      "6. Generate Report\n",
      "7. Logout & Exit\n"
     ]
    },
    {
     "name": "stdin",
     "output_type": "stream",
     "text": [
      "Enter choice:  5\n",
      "Enter Roll Number to delete:  002\n"
     ]
    },
    {
     "name": "stdout",
     "output_type": "stream",
     "text": [
      "Student record deleted.\n",
      "\n",
      "--- Main Menu ---\n",
      "1. Add Student\n",
      "2. View All Students\n",
      "3. Search Student\n",
      "4. Update Student\n",
      "5. Delete Student\n",
      "6. Generate Report\n",
      "7. Logout & Exit\n"
     ]
    },
    {
     "name": "stdin",
     "output_type": "stream",
     "text": [
      "Enter choice:  4\n",
      "Enter Roll Number to update:  001\n"
     ]
    },
    {
     "name": "stdout",
     "output_type": "stream",
     "text": [
      "Current Data - Name: Jack, Grade: B\n"
     ]
    },
    {
     "name": "stdin",
     "output_type": "stream",
     "text": [
      "Enter new name:  Jay\n",
      "Enter new grade:  A\n"
     ]
    },
    {
     "name": "stdout",
     "output_type": "stream",
     "text": [
      "Student record updated.\n",
      "\n",
      "--- Main Menu ---\n",
      "1. Add Student\n",
      "2. View All Students\n",
      "3. Search Student\n",
      "4. Update Student\n",
      "5. Delete Student\n",
      "6. Generate Report\n",
      "7. Logout & Exit\n"
     ]
    },
    {
     "name": "stdin",
     "output_type": "stream",
     "text": [
      "Enter choice:  2\n"
     ]
    },
    {
     "name": "stdout",
     "output_type": "stream",
     "text": [
      "\n",
      "--- Student Records ---\n",
      "Roll: 001 | Name: Jay | Grade: A\n",
      "Roll: 003 | Name: Yvonne | Grade: C\n",
      "Roll: 004 | Name: Maria | Grade: A\n",
      "Roll: 005 | Name: Hafsah | Grade: A\n",
      "Roll: 006 | Name: Tom | Grade: B\n",
      "Roll: 007 | Name: George | Grade: B\n",
      "Roll: 008 | Name: Grace | Grade: C\n",
      "Roll: 009 | Name: Frances | Grade: D\n",
      "Roll: 010 | Name: Stan | Grade: A\n",
      "\n",
      "--- Main Menu ---\n",
      "1. Add Student\n",
      "2. View All Students\n",
      "3. Search Student\n",
      "4. Update Student\n",
      "5. Delete Student\n",
      "6. Generate Report\n",
      "7. Logout & Exit\n"
     ]
    },
    {
     "name": "stdin",
     "output_type": "stream",
     "text": [
      "Enter choice:  5\n",
      "Enter Roll Number to delete:  005\n"
     ]
    },
    {
     "name": "stdout",
     "output_type": "stream",
     "text": [
      "Student record deleted.\n",
      "\n",
      "--- Main Menu ---\n",
      "1. Add Student\n",
      "2. View All Students\n",
      "3. Search Student\n",
      "4. Update Student\n",
      "5. Delete Student\n",
      "6. Generate Report\n",
      "7. Logout & Exit\n"
     ]
    },
    {
     "name": "stdin",
     "output_type": "stream",
     "text": [
      "Enter choice:  6\n"
     ]
    },
    {
     "name": "stdout",
     "output_type": "stream",
     "text": [
      "\n",
      "Student Report\n",
      "Total Students: 8\n",
      "Grade A: 3 student(s)\n",
      "Grade C: 2 student(s)\n",
      "Grade B: 2 student(s)\n",
      "Grade D: 1 student(s)\n",
      "\n",
      "--- Main Menu ---\n",
      "1. Add Student\n",
      "2. View All Students\n",
      "3. Search Student\n",
      "4. Update Student\n",
      "5. Delete Student\n",
      "6. Generate Report\n",
      "7. Logout & Exit\n"
     ]
    },
    {
     "name": "stdin",
     "output_type": "stream",
     "text": [
      "Enter choice:  4\n",
      "Enter Roll Number to update:  002\n"
     ]
    },
    {
     "name": "stdout",
     "output_type": "stream",
     "text": [
      "Student not found.\n",
      "\n",
      "--- Main Menu ---\n",
      "1. Add Student\n",
      "2. View All Students\n",
      "3. Search Student\n",
      "4. Update Student\n",
      "5. Delete Student\n",
      "6. Generate Report\n",
      "7. Logout & Exit\n"
     ]
    },
    {
     "name": "stdin",
     "output_type": "stream",
     "text": [
      "Enter choice:  4\n",
      "Enter Roll Number to update:  003\n"
     ]
    },
    {
     "name": "stdout",
     "output_type": "stream",
     "text": [
      "Current Data - Name: Yvonne, Grade: C\n"
     ]
    },
    {
     "name": "stdin",
     "output_type": "stream",
     "text": [
      "Enter new name:  Yvonne\n",
      "Enter new grade:  B\n"
     ]
    },
    {
     "name": "stdout",
     "output_type": "stream",
     "text": [
      "Student record updated.\n",
      "\n",
      "--- Main Menu ---\n",
      "1. Add Student\n",
      "2. View All Students\n",
      "3. Search Student\n",
      "4. Update Student\n",
      "5. Delete Student\n",
      "6. Generate Report\n",
      "7. Logout & Exit\n"
     ]
    },
    {
     "name": "stdin",
     "output_type": "stream",
     "text": [
      "Enter choice:  6\n"
     ]
    },
    {
     "name": "stdout",
     "output_type": "stream",
     "text": [
      "\n",
      "Student Report\n",
      "Total Students: 8\n",
      "Grade A: 3 student(s)\n",
      "Grade B: 3 student(s)\n",
      "Grade C: 1 student(s)\n",
      "Grade D: 1 student(s)\n",
      "\n",
      "--- Main Menu ---\n",
      "1. Add Student\n",
      "2. View All Students\n",
      "3. Search Student\n",
      "4. Update Student\n",
      "5. Delete Student\n",
      "6. Generate Report\n",
      "7. Logout & Exit\n"
     ]
    },
    {
     "name": "stdin",
     "output_type": "stream",
     "text": [
      "Enter choice:  7\n"
     ]
    },
    {
     "name": "stdout",
     "output_type": "stream",
     "text": [
      "Goodbye!\n"
     ]
    }
   ],
   "source": [
    "# Create main function\n",
    "def main():\n",
    "    print(\"===== Student Management System =====\")\n",
    "\n",
    "    # Ensure admin user exists; if not, prompt to create an admin account\n",
    "    if not os.path.exists(USER_FILE):\n",
    "        print(\"No users found. Create an Admin account.\")\n",
    "        uname = input(\"Set Admin Username: \")\n",
    "        pwd = getpass.getpass(\"Set Admin Password: \")\n",
    "        save_user(uname, pwd)\n",
    "        print(\"Admin created! Please restart the program.\")\n",
    "\n",
    "    # Authenticate user before accessing the system\n",
    "    username = None\n",
    "    while not username:\n",
    "        username = authenticate()  # Keeps asking until login is successful\n",
    "\n",
    "    # Use while loop to display the main menu until the user logs out\n",
    "    while True:\n",
    "        print(\"\\n--- Main Menu ---\")\n",
    "        print(\"1. Add Student\")\n",
    "        print(\"2. View All Students\")\n",
    "        print(\"3. Search Student\")\n",
    "        print(\"4. Update Student\")\n",
    "        print(\"5. Delete Student\")\n",
    "        print(\"6. Generate Report\")\n",
    "        print(\"7. Logout & Exit\")\n",
    "\n",
    "        choice = input(\"Enter choice: \")\n",
    "\n",
    "        # Call the appropriate function based on user input\n",
    "        if choice == \"1\":\n",
    "            add_student(username)\n",
    "        elif choice == \"2\":\n",
    "            view_students()\n",
    "        elif choice == \"3\":\n",
    "            search_student()\n",
    "        elif choice == \"4\":\n",
    "            update_student(username)\n",
    "        elif choice == \"5\":\n",
    "            delete_student(username)\n",
    "        elif choice == \"6\":\n",
    "            generate_report()\n",
    "        elif choice == \"7\":\n",
    "            log_activity(username, \"Logged out\")\n",
    "            print(\"Goodbye!\")\n",
    "            break  # Exit the loop and end the program\n",
    "        else:\n",
    "            print(\"Invalid choice! Please try again.\")\n",
    "\n",
    "if __name__ == \"__main__\":\n",
    "    main()"
   ]
  },
  {
   "cell_type": "code",
   "execution_count": null,
   "id": "f5efba88-3086-4a6a-921b-be46e37c592f",
   "metadata": {},
   "outputs": [],
   "source": []
  }
 ],
 "metadata": {
  "kernelspec": {
   "display_name": "Python 3 (ipykernel)",
   "language": "python",
   "name": "python3"
  },
  "language_info": {
   "codemirror_mode": {
    "name": "ipython",
    "version": 3
   },
   "file_extension": ".py",
   "mimetype": "text/x-python",
   "name": "python",
   "nbconvert_exporter": "python",
   "pygments_lexer": "ipython3",
   "version": "3.13.7"
  }
 },
 "nbformat": 4,
 "nbformat_minor": 5
}
